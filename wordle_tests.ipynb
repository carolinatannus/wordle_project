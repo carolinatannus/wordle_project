{
 "cells": [
  {
   "cell_type": "code",
   "execution_count": 1,
   "metadata": {},
   "outputs": [],
   "source": [
    "# Extra\n",
    "# Import dictionary\n",
    "# Automatically generate a new random word each day\n",
    "# Think about possible errors and add 'raise Error' when needed\n",
    "# Improve the user output so as to see the word horizontally (instead of vertically)\n",
    "# Show wrong guessed letters\n",
    "# Tell the user if the letter appears more than one time\n",
    "\n",
    "# If the user's input is not a 5-letter word, allow him to return to the game with another try"
   ]
  },
  {
   "cell_type": "code",
   "execution_count": 10,
   "metadata": {},
   "outputs": [
    {
     "ename": "ModuleNotFoundError",
     "evalue": "No module named 'words'",
     "output_type": "error",
     "traceback": [
      "\u001b[0;31m---------------------------------------------------------------------------\u001b[0m",
      "\u001b[0;31mModuleNotFoundError\u001b[0m                       Traceback (most recent call last)",
      "\u001b[0;32m<ipython-input-10-a593146b4cf4>\u001b[0m in \u001b[0;36m<module>\u001b[0;34m()\u001b[0m\n\u001b[1;32m      1\u001b[0m \u001b[0;32mimport\u001b[0m \u001b[0mre\u001b[0m\u001b[0;34m\u001b[0m\u001b[0;34m\u001b[0m\u001b[0m\n\u001b[1;32m      2\u001b[0m \u001b[0;32mimport\u001b[0m \u001b[0mrandom\u001b[0m\u001b[0;34m\u001b[0m\u001b[0;34m\u001b[0m\u001b[0m\n\u001b[0;32m----> 3\u001b[0;31m \u001b[0;32mfrom\u001b[0m \u001b[0mwords\u001b[0m\u001b[0;34m.\u001b[0m\u001b[0mpy\u001b[0m \u001b[0;32mimport\u001b[0m \u001b[0mwords\u001b[0m\u001b[0;34m\u001b[0m\u001b[0;34m\u001b[0m\u001b[0m\n\u001b[0m\u001b[1;32m      4\u001b[0m \u001b[0mprint\u001b[0m\u001b[0;34m(\u001b[0m\u001b[0mwords\u001b[0m\u001b[0;34m)\u001b[0m\u001b[0;34m\u001b[0m\u001b[0;34m\u001b[0m\u001b[0m\n\u001b[1;32m      5\u001b[0m \u001b[0;34m\u001b[0m\u001b[0m\n",
      "\u001b[0;31mModuleNotFoundError\u001b[0m: No module named 'words'"
     ]
    }
   ],
   "source": [
    "import re\n",
    "import random\n",
    "from words.py import words\n",
    "print(words)\n",
    "\n",
    "def wordle(word):\n",
    "    '''The wordle function is a guessing game that demands an argument {word} \n",
    "    and gives you up to 6 times to guess the correct random 5-letter English word\n",
    "    while telling you if you've guessed a specific letter and position correctly.\n",
    "    \n",
    "    arg: word - string with exactly 5 letters, not characters.\n",
    "    return: string with information about guessed word versus random word.\n",
    "    \n",
    "    eg: wordle('words')\n",
    "    return(1):\n",
    "        You've guessed w in position 1\n",
    "        Review o in position 2\n",
    "        Review r in position 3\n",
    "        Review d in position 4\n",
    "        Review s in position 5\n",
    "        Try again, please: water\n",
    "    return(2):\n",
    "        You've guessed w in position 1\n",
    "        You've guessed a in position 2\n",
    "        Review t in position 3\n",
    "        Review e in position 4\n",
    "        Review r in position 5\n",
    "        Try again, please: waste\n",
    "    return(3):\n",
    "        You've guessed the word waste in try number 3!\n",
    "    '''\n",
    "    \n",
    "    lst = ['horse', 'words', 'about', 'canon', 'dress', 'green', 'brown', 'toast']\n",
    "    wrong_letters = []\n",
    "    \n",
    "    try:\n",
    "        if word.lower() in lst and len(re.findall('[a-zA-Z]',word)) == 5:\n",
    "            pass\n",
    "        \n",
    "    except:\n",
    "        if isinstance(word,str) is False:\n",
    "            raise TypeError('Remember to enter a string containing a 5-letter word.')   \n",
    "    finally:\n",
    "        random_word = lst[random.randint(0,(len(lst))-1)]\n",
    "        try_count = 0\n",
    "        while try_count != 5:\n",
    "            if word.lower() != random_word:\n",
    "                for i in range(5):\n",
    "                    if word.lower()[i] == random_word[i]:\n",
    "                        print(f\"You've guessed {word[i]} in position {i + 1}\")\n",
    "                    elif word.lower()[i] in random_word:\n",
    "                        print(f\"The letter {word[i]} appears, but not in position {i + 1}\")\n",
    "                    else:\n",
    "                        wrong_letters.append(word.lower()[i])\n",
    "                        user_help = set(sorted(wrong_letters))\n",
    "                        print(f\"Review {word.lower()[i]} in position {i + 1}\")\n",
    "                try_count += 1\n",
    "                word = input(f\"You have already tried: {user_help}. Try again, please: \\n\")\n",
    "            else:\n",
    "                return f\"You've guessed the word {word.lower()} in try number {try_count + 1}!\"                   \n",
    "        print(f\"You've ran out of tries! The word was {random_word}\")"
   ]
  },
  {
   "cell_type": "code",
   "execution_count": null,
   "metadata": {},
   "outputs": [],
   "source": [
    "wordle('words')"
   ]
  }
 ],
 "metadata": {
  "kernelspec": {
   "display_name": "aulas",
   "language": "python",
   "name": "aulas"
  },
  "language_info": {
   "codemirror_mode": {
    "name": "ipython",
    "version": 3
   },
   "file_extension": ".py",
   "mimetype": "text/x-python",
   "name": "python",
   "nbconvert_exporter": "python",
   "pygments_lexer": "ipython3",
   "version": "3.6.8"
  },
  "varInspector": {
   "cols": {
    "lenName": 16,
    "lenType": 16,
    "lenVar": 40
   },
   "kernels_config": {
    "python": {
     "delete_cmd_postfix": "",
     "delete_cmd_prefix": "del ",
     "library": "var_list.py",
     "varRefreshCmd": "print(var_dic_list())"
    },
    "r": {
     "delete_cmd_postfix": ") ",
     "delete_cmd_prefix": "rm(",
     "library": "var_list.r",
     "varRefreshCmd": "cat(var_dic_list()) "
    }
   },
   "position": {
    "height": "284px",
    "left": "1070px",
    "right": "20px",
    "top": "120px",
    "width": "337px"
   },
   "types_to_exclude": [
    "module",
    "function",
    "builtin_function_or_method",
    "instance",
    "_Feature"
   ],
   "window_display": false
  }
 },
 "nbformat": 4,
 "nbformat_minor": 2
}
